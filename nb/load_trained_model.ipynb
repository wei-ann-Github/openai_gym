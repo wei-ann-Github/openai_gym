{
 "cells": [
  {
   "cell_type": "code",
   "execution_count": 10,
   "metadata": {},
   "outputs": [],
   "source": [
    "import os\n",
    "\n",
    "import matplotlib.pyplot as plt\n",
    "from pprint import pprint\n",
    "from time import sleep\n",
    "import torch\n",
    "\n",
    "import gymnasium as gym\n",
    "import numpy as np\n",
    "from pettingzoo.classic import connect_four_v3\n",
    "from tianshou.env.pettingzoo_env import PettingZooEnv\n",
    "from tianshou.data import Batch\n",
    "\n",
    "env = connect_four_v3.env(render_mode='human')\n",
    "# env = connect_four_v3.env()\n",
    "env = PettingZooEnv(env)"
   ]
  },
  {
   "cell_type": "code",
   "execution_count": 11,
   "metadata": {},
   "outputs": [],
   "source": [
    "from tianshou.policy import BasePolicy, DQNPolicy, MultiAgentPolicyManager, RandomPolicy\n",
    "from tianshou.utils.net.common import Net"
   ]
  },
  {
   "cell_type": "code",
   "execution_count": 12,
   "metadata": {},
   "outputs": [],
   "source": [
    "# train_path = '../log/rps/dqn/policy.pth'\n",
    "# train_path = '../log/rps/dqn/policy_v1.pth'\n",
    "# train_path = '../log/rps/dqn/policy_v2.pth'\n",
    "# train_path = '../log/rps/dqn/policy_v3.pth'  # DQN v.s DQN\n",
    "train_path_p1 = '../log/rps/dqn/policy_p1_v3.pth'  # DQN v.s DQN\n",
    "train_path_p2 = '../log/rps/dqn/policy_p2_v3.pth'  # DQN v.s DQN\n",
    "wsl = True"
   ]
  },
  {
   "cell_type": "code",
   "execution_count": 13,
   "metadata": {},
   "outputs": [],
   "source": [
    "if wsl:\n",
    "    os.environ[\"SDL_VIDEODRIVER\"]=\"x11\"  # if on WSL. https://learn.microsoft.com/en-us/windows/wsl/tutorials/gui-apps"
   ]
  },
  {
   "cell_type": "code",
   "execution_count": 14,
   "metadata": {},
   "outputs": [],
   "source": [
    "state_shape = env.observation_space[\"observation\"].shape  # (6, 7, 2)\n",
    "action_shape = env.action_space.n  # 7\n",
    "\n",
    "# net = Net(state_shape, hidden_sizes=[16, 16], device=\"cpu\")\n",
    "\n",
    "net = Net(state_shape=state_shape,\n",
    "          action_shape=action_shape,\n",
    "          hidden_sizes=[128, 128, 128, 128],\n",
    "             device=\"cuda\" if torch.cuda.is_available() else \"cpu\",\n",
    "            ).to(\"cuda\" if torch.cuda.is_available() else \"cpu\")\n",
    "optim = torch.optim.Adam(net.parameters(), lr=1e-4)\n",
    "policy_p1 = DQNPolicy(\n",
    "            model=net,\n",
    "            optim=optim,\n",
    "            discount_factor=0.9,\n",
    "            estimation_step=3,\n",
    "            target_update_freq=320,\n",
    "        )\n",
    "policy_p2 = policy_p1"
   ]
  },
  {
   "cell_type": "code",
   "execution_count": 15,
   "metadata": {},
   "outputs": [],
   "source": [
    "#### https://tianshou.readthedocs.io/en/master/tutorials/dqn.html#save-load-policy\n",
    "\n",
    "# Against Human\n",
    "if not torch.cuda.is_available():\n",
    "    policy_p1.load_state_dict(torch.load(train_path_p1, map_location=torch.device('cpu')))\n",
    "    policy_p2.load_state_dict(torch.load(train_path_p2, map_location=torch.device('cpu')))\n",
    "else:\n",
    "    policy_p1.load_state_dict(torch.load(train_path_p1))\n",
    "    policy_p2.load_state_dict(torch.load(train_path_p2))"
   ]
  },
  {
   "cell_type": "code",
   "execution_count": 16,
   "metadata": {},
   "outputs": [],
   "source": [
    "from time import sleep"
   ]
  },
  {
   "cell_type": "code",
   "execution_count": 20,
   "metadata": {},
   "outputs": [
    {
     "name": "stdout",
     "output_type": "stream",
     "text": [
      "Game ended. The winner is player_0\n"
     ]
    }
   ],
   "source": [
    "# Agent v.s. Agent\n",
    "\n",
    "agents = env.agents\n",
    "new_game = True\n",
    "obs = env.reset()\n",
    "observation = obs\n",
    "done = False\n",
    "info = {}\n",
    "\n",
    "env.reset()\n",
    "policy_p1.eval()\n",
    "policy_p2.eval()\n",
    "# First action.\n",
    "action = env.action_space.sample()\n",
    "observation, reward, done, truncated, info = env.step(action)\n",
    "sleep(0.5)\n",
    "while not done:\n",
    "    # P2\n",
    "    observation['obs'] = observation['obs'].reshape(-1, int(np.prod(state_shape)))  # Reshape observation    \n",
    "    action = policy_p2(Batch(obs=observation, info=info)).act[0]\n",
    "    observation, reward, done, truncated, info = env.step(action)\n",
    "    sleep(0.5)\n",
    "    \n",
    "    if done:\n",
    "        break\n",
    "\n",
    "    # P1\n",
    "    observation['obs'] = observation['obs'].reshape(-1, int(np.prod(state_shape)))  # Reshape observation    \n",
    "    action = policy_p1(Batch(obs=observation, info=info)).act[0]\n",
    "    observation, reward, done, truncated, info = env.step(action)\n",
    "    sleep(0.5)\n",
    "\n",
    "winner = agents[np.argmax(reward)]\n",
    "print(f'Game ended. The winner is {winner}')    "
   ]
  },
  {
   "cell_type": "code",
   "execution_count": 13,
   "metadata": {},
   "outputs": [
    {
     "name": "stdout",
     "output_type": "stream",
     "text": [
      "mask after agent moves: [True, True, True, True, True, True, True]\n",
      "User input starts with 1 to 7: 6\n",
      "mask after player moves: [True, True, True, True, True, True, True]\n",
      "mask after agent moves: [True, True, True, True, True, True, True]\n",
      "User input starts with 1 to 7: 6\n",
      "mask after player moves: [True, True, True, True, True, True, True]\n",
      "mask after agent moves: [True, True, True, True, True, True, True]\n",
      "User input starts with 1 to 7: 6\n",
      "mask after player moves: [True, True, True, True, True, False, True]\n",
      "[WARNING]: Illegal move made, game terminating with current player losing. \n",
      "obs['action_mask'] contains a mask of all legal moves that can be chosen.\n",
      "mask after agent moves: [True, True, True, True, True, False, True]\n",
      "Game ended. The winner is player_1\n"
     ]
    }
   ],
   "source": [
    "agents = env.agents\n",
    "agent = agents[0]\n",
    "new_game = True\n",
    "obs = env.reset()\n",
    "observation = obs\n",
    "done = False\n",
    "info = {}\n",
    "\n",
    "env.reset()\n",
    "policy.eval()\n",
    "while not done:\n",
    "    # determine agent's action.\n",
    "    if agent == 'player_0' and new_game:\n",
    "        action = env.action_space.sample()\n",
    "    elif agent == 'player_1' and not new_game:\n",
    "        observation['obs'] = observation['obs'].reshape(-1, int(np.prod(state_shape)))  # Reshape observation    \n",
    "        action = policy(Batch(obs=observation)).act[0]\n",
    "        print(f'action chosen by policy: column {action + 1}')\n",
    "\n",
    "    if not new_game or agent == 'player_0':\n",
    "        observation, reward, done, truncated, info = env.step(action)\n",
    "        print('mask after agent moves:', observation['mask'])\n",
    "    \n",
    "    if not done:\n",
    "        try:\n",
    "            player_action = int(input('User input starts with 1 to 7: ')) - 1\n",
    "        except:\n",
    "            while not isinstance(player_action, int) and player_action < 7:\n",
    "                print('invalid entry')\n",
    "                player_action = int(input('User input starts with 1 to 7: ')) - 1\n",
    "        observation, reward, done, truncated, info = env.step(player_action)\n",
    "        observation['info'] = info\n",
    "\n",
    "        print('mask after player moves:', observation['mask'])\n",
    "\n",
    "    new_game = False\n",
    "\n",
    "winner = agents[np.argmax(reward)]\n",
    "print(f'Game ended. The winner is {winner}')    "
   ]
  },
  {
   "cell_type": "code",
   "execution_count": 21,
   "metadata": {},
   "outputs": [],
   "source": [
    "env.close()"
   ]
  },
  {
   "cell_type": "code",
   "execution_count": null,
   "metadata": {},
   "outputs": [],
   "source": []
  },
  {
   "cell_type": "code",
   "execution_count": null,
   "metadata": {},
   "outputs": [],
   "source": []
  },
  {
   "cell_type": "code",
   "execution_count": null,
   "metadata": {},
   "outputs": [],
   "source": []
  },
  {
   "cell_type": "code",
   "execution_count": null,
   "metadata": {},
   "outputs": [],
   "source": []
  },
  {
   "cell_type": "code",
   "execution_count": null,
   "metadata": {},
   "outputs": [],
   "source": []
  }
 ],
 "metadata": {
  "kernelspec": {
   "display_name": "Python 3 (ipykernel)",
   "language": "python",
   "name": "python3"
  },
  "language_info": {
   "codemirror_mode": {
    "name": "ipython",
    "version": 3
   },
   "file_extension": ".py",
   "mimetype": "text/x-python",
   "name": "python",
   "nbconvert_exporter": "python",
   "pygments_lexer": "ipython3",
   "version": "3.9.15"
  }
 },
 "nbformat": 4,
 "nbformat_minor": 4
}
